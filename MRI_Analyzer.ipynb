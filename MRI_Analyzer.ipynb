{
  "nbformat": 4,
  "nbformat_minor": 0,
  "metadata": {
    "colab": {
      "name": "MRI_Analyzer.ipynb",
      "provenance": [],
      "collapsed_sections": [],
      "toc_visible": true,
      "include_colab_link": true
    },
    "kernelspec": {
      "name": "python3",
      "display_name": "Python 3"
    },
    "accelerator": "GPU"
  },
  "cells": [
    {
      "cell_type": "markdown",
      "metadata": {
        "id": "view-in-github",
        "colab_type": "text"
      },
      "source": [
        "<a href=\"https://colab.research.google.com/github/yasheymateen/Deep_Learning_MRIs/blob/master/MRI_Analyzer.ipynb\" target=\"_parent\"><img src=\"https://colab.research.google.com/assets/colab-badge.svg\" alt=\"Open In Colab\"/></a>"
      ]
    },
    {
      "cell_type": "code",
      "metadata": {
        "id": "ebLAg_pX-E8b",
        "colab_type": "code",
        "outputId": "17093b58-7cbb-48aa-954d-f16d319de7ea",
        "colab": {
          "base_uri": "https://localhost:8080/",
          "height": 51
        }
      },
      "source": [
        "!pip install --upgrade --quiet mdai"
      ],
      "execution_count": 0,
      "outputs": [
        {
          "output_type": "stream",
          "text": [
            "\u001b[K     |████████████████████████████████| 35.3MB 80kB/s \n",
            "\u001b[K     |████████████████████████████████| 51kB 8.6MB/s \n",
            "\u001b[?25h"
          ],
          "name": "stdout"
        }
      ]
    },
    {
      "cell_type": "code",
      "metadata": {
        "id": "Qr5AFx-A9_pV",
        "colab_type": "code",
        "colab": {}
      },
      "source": [
        "import mdai\n",
        "import pandas as pd\n",
        "from pathlib import Path"
      ],
      "execution_count": 0,
      "outputs": []
    },
    {
      "cell_type": "markdown",
      "metadata": {
        "id": "934oOEOr31qS",
        "colab_type": "text"
      },
      "source": [
        
      ]
    },
    {
      "cell_type": "code",
      "metadata": {
        "id": "W8-0t7Vo-BEK",
        "colab_type": "code",
        "outputId": "dfcf7834-f586-4f12-e681-61fd13b5913b",
        "colab": {
          "base_uri": "https://localhost:8080/",
          "height": 34
        }
      },
      "source": [
        "DOMAIN = 'public.md.ai'\n",
        "ACCESS_TOKEN = '004e60b14e612766896ae17a6d0100a5'\n",
        "project_id = 'XQqbVvqr'\n",
        "train_dataset_id = 'D_7E0l4E'\n",
        "test_dataset_id = 'D_zQ1lMo'\n",
        "mdai_client = mdai.Client(domain=DOMAIN, access_token=ACCESS_TOKEN)"
      ],
      "execution_count": 0,
      "outputs": [
        {
          "output_type": "stream",
          "text": [
            "Successfully authenticated to public.md.ai.\n"
          ],
          "name": "stdout"
        }
      ]
    },
    {
      "cell_type": "code",
      "metadata": {
        "id": "Shw--DZs-RYL",
        "colab_type": "code",
        "outputId": "f2c3cae0-0bb3-4068-87f9-ee5431cfe191",
        "colab": {
          "base_uri": "https://localhost:8080/",
          "height": 119
        }
      },
      "source": [
        "p = mdai_client.project(project_id, annotations_only=True)"
      ],
      "execution_count": 0,
      "outputs": [
        {
          "output_type": "stream",
          "text": [
            "Using working directory for data.\n",
            "Preparing annotations export for project XQqbVvqr...                                                \n",
            "Downloading file: mdai_public_project_XQqbVvqr_annotations_labelgroup_all_2020-03-02-152121.json\n"
          ],
          "name": "stdout"
        },
        {
          "output_type": "stream",
          "text": [
            "21.3MB [00:00, 191MB/s]                            "
          ],
          "name": "stderr"
        },
        {
          "output_type": "stream",
          "text": [
            "Success: annotations data for project XQqbVvqr ready.\n",
            "No project created. Downloaded annotations only.\n"
          ],
          "name": "stdout"
        },
        {
          "output_type": "stream",
          "text": [
            "\n"
          ],
          "name": "stderr"
        }
      ]
    },
    {
      "cell_type": "code",
      "metadata": {
        "id": "3OUMTZSF0m1D",
        "colab_type": "code",
        "outputId": "3fc41d1b-55a0-4447-f51e-e085bc8dff7a",
        "colab": {
          "base_uri": "https://localhost:8080/",
          "height": 564
        }
      },
      "source": [
        "paths = [str(p) for p in Path.cwd().glob(\"**/*.json\")]\n",
        "JSON = paths[0]\n",
        "results = mdai.common_utils.json_to_dataframe(JSON)\n",
        "annotations = results['annotations']\n",
        "annotations.head()"
      ],
      "execution_count": 0,
      "outputs": [
        {
          "output_type": "execute_result",
          "data": {
            "text/html": [
              "<div>\n",
              "<style scoped>\n",
              "    .dataframe tbody tr th:only-of-type {\n",
              "        vertical-align: middle;\n",
              "    }\n",
              "\n",
              "    .dataframe tbody tr th {\n",
              "        vertical-align: top;\n",
              "    }\n",
              "\n",
              "    .dataframe thead th {\n",
              "        text-align: right;\n",
              "    }\n",
              "</style>\n",
              "<table border=\"1\" class=\"dataframe\">\n",
              "  <thead>\n",
              "    <tr style=\"text-align: right;\">\n",
              "      <th></th>\n",
              "      <th>id</th>\n",
              "      <th>createdAt</th>\n",
              "      <th>createdById</th>\n",
              "      <th>updatedAt</th>\n",
              "      <th>updatedById</th>\n",
              "      <th>modelId</th>\n",
              "      <th>StudyInstanceUID</th>\n",
              "      <th>SeriesInstanceUID</th>\n",
              "      <th>SOPInstanceUID</th>\n",
              "      <th>labelId</th>\n",
              "      <th>annotationNumber</th>\n",
              "      <th>height</th>\n",
              "      <th>width</th>\n",
              "      <th>data</th>\n",
              "      <th>note</th>\n",
              "      <th>radlexTagIds</th>\n",
              "      <th>reviewsPositiveCount</th>\n",
              "      <th>reviewsNegativeCount</th>\n",
              "      <th>dataset</th>\n",
              "      <th>groupId</th>\n",
              "      <th>groupName</th>\n",
              "      <th>annotationMode</th>\n",
              "      <th>color</th>\n",
              "      <th>description</th>\n",
              "      <th>labelName</th>\n",
              "      <th>radlexTagIdsLabel</th>\n",
              "      <th>scope</th>\n",
              "      <th>number</th>\n",
              "    </tr>\n",
              "  </thead>\n",
              "  <tbody>\n",
              "    <tr>\n",
              "      <th>0</th>\n",
              "      <td>A_JddPQE</td>\n",
              "      <td>2020-02-18T21:13:01.175Z</td>\n",
              "      <td>U_w8RBv8</td>\n",
              "      <td>2020-02-18T21:13:01.175Z</td>\n",
              "      <td>U_w8RBv8</td>\n",
              "      <td>None</td>\n",
              "      <td>1.3.46.670589.11.20182.5.0.8336.20130724083604...</td>\n",
              "      <td>1.3.46.670589.11.20182.5.0.7188.20130724085044...</td>\n",
              "      <td>1.3.6.1.4.1.9590.100.1.2.260616927513309992437...</td>\n",
              "      <td>L_8W6Ord</td>\n",
              "      <td>1</td>\n",
              "      <td>256</td>\n",
              "      <td>256</td>\n",
              "      <td>{'vertices': [[64, 130], [64, 129], [64, 128],...</td>\n",
              "      <td>None</td>\n",
              "      <td>[]</td>\n",
              "      <td>0</td>\n",
              "      <td>0</td>\n",
              "      <td>Train</td>\n",
              "      <td>G_MKGlRd</td>\n",
              "      <td>CHAOS</td>\n",
              "      <td>freeform</td>\n",
              "      <td>#4caf50</td>\n",
              "      <td></td>\n",
              "      <td>Liver</td>\n",
              "      <td>[]</td>\n",
              "      <td>INSTANCE</td>\n",
              "      <td>1</td>\n",
              "    </tr>\n",
              "    <tr>\n",
              "      <th>1</th>\n",
              "      <td>A_qG28ZY</td>\n",
              "      <td>2020-02-18T21:13:01.175Z</td>\n",
              "      <td>U_w8RBv8</td>\n",
              "      <td>2020-02-18T21:13:01.175Z</td>\n",
              "      <td>U_w8RBv8</td>\n",
              "      <td>None</td>\n",
              "      <td>1.3.46.670589.11.20182.5.0.8336.20130724083604...</td>\n",
              "      <td>1.3.46.670589.11.20182.5.0.7188.20130724085044...</td>\n",
              "      <td>1.3.6.1.4.1.9590.100.1.2.388757691711551811514...</td>\n",
              "      <td>L_8W6Ord</td>\n",
              "      <td>1</td>\n",
              "      <td>256</td>\n",
              "      <td>256</td>\n",
              "      <td>{'vertices': [[66, 129], [66, 128], [66, 127],...</td>\n",
              "      <td>None</td>\n",
              "      <td>[]</td>\n",
              "      <td>0</td>\n",
              "      <td>0</td>\n",
              "      <td>Train</td>\n",
              "      <td>G_MKGlRd</td>\n",
              "      <td>CHAOS</td>\n",
              "      <td>freeform</td>\n",
              "      <td>#4caf50</td>\n",
              "      <td></td>\n",
              "      <td>Liver</td>\n",
              "      <td>[]</td>\n",
              "      <td>INSTANCE</td>\n",
              "      <td>1</td>\n",
              "    </tr>\n",
              "    <tr>\n",
              "      <th>2</th>\n",
              "      <td>A_47VBpv</td>\n",
              "      <td>2020-02-18T21:13:01.175Z</td>\n",
              "      <td>U_w8RBv8</td>\n",
              "      <td>2020-02-18T21:13:01.175Z</td>\n",
              "      <td>U_w8RBv8</td>\n",
              "      <td>None</td>\n",
              "      <td>1.3.46.670589.11.20182.5.0.8336.20130724083604...</td>\n",
              "      <td>1.3.46.670589.11.20182.5.0.7188.20130724085044...</td>\n",
              "      <td>1.3.6.1.4.1.9590.100.1.2.355688831611728149411...</td>\n",
              "      <td>L_8W6Ord</td>\n",
              "      <td>1</td>\n",
              "      <td>256</td>\n",
              "      <td>256</td>\n",
              "      <td>{'vertices': [[69, 133], [69, 132], [69, 131],...</td>\n",
              "      <td>None</td>\n",
              "      <td>[]</td>\n",
              "      <td>0</td>\n",
              "      <td>0</td>\n",
              "      <td>Train</td>\n",
              "      <td>G_MKGlRd</td>\n",
              "      <td>CHAOS</td>\n",
              "      <td>freeform</td>\n",
              "      <td>#4caf50</td>\n",
              "      <td></td>\n",
              "      <td>Liver</td>\n",
              "      <td>[]</td>\n",
              "      <td>INSTANCE</td>\n",
              "      <td>1</td>\n",
              "    </tr>\n",
              "    <tr>\n",
              "      <th>3</th>\n",
              "      <td>A_JAnGdr</td>\n",
              "      <td>2020-02-18T21:13:01.175Z</td>\n",
              "      <td>U_w8RBv8</td>\n",
              "      <td>2020-02-18T21:13:01.175Z</td>\n",
              "      <td>U_w8RBv8</td>\n",
              "      <td>None</td>\n",
              "      <td>1.3.46.670589.11.20182.5.0.8336.20130724083604...</td>\n",
              "      <td>1.3.46.670589.11.20182.5.0.7188.20130724085044...</td>\n",
              "      <td>1.3.6.1.4.1.9590.100.1.2.417210802510957152442...</td>\n",
              "      <td>L_8W6Ord</td>\n",
              "      <td>1</td>\n",
              "      <td>256</td>\n",
              "      <td>256</td>\n",
              "      <td>{'vertices': [[74, 126], [74, 125], [74, 124],...</td>\n",
              "      <td>None</td>\n",
              "      <td>[]</td>\n",
              "      <td>0</td>\n",
              "      <td>0</td>\n",
              "      <td>Train</td>\n",
              "      <td>G_MKGlRd</td>\n",
              "      <td>CHAOS</td>\n",
              "      <td>freeform</td>\n",
              "      <td>#4caf50</td>\n",
              "      <td></td>\n",
              "      <td>Liver</td>\n",
              "      <td>[]</td>\n",
              "      <td>INSTANCE</td>\n",
              "      <td>1</td>\n",
              "    </tr>\n",
              "    <tr>\n",
              "      <th>4</th>\n",
              "      <td>A_JN8WKy</td>\n",
              "      <td>2020-02-18T21:13:01.175Z</td>\n",
              "      <td>U_w8RBv8</td>\n",
              "      <td>2020-02-18T21:13:01.175Z</td>\n",
              "      <td>U_w8RBv8</td>\n",
              "      <td>None</td>\n",
              "      <td>1.3.46.670589.11.20182.5.0.8336.20130724083604...</td>\n",
              "      <td>1.3.46.670589.11.20182.5.0.7188.20130724085044...</td>\n",
              "      <td>1.3.6.1.4.1.9590.100.1.2.284053595913909049118...</td>\n",
              "      <td>L_8W6Ord</td>\n",
              "      <td>1</td>\n",
              "      <td>256</td>\n",
              "      <td>256</td>\n",
              "      <td>{'vertices': [[78, 126], [78, 125], [78, 124],...</td>\n",
              "      <td>None</td>\n",
              "      <td>[]</td>\n",
              "      <td>0</td>\n",
              "      <td>0</td>\n",
              "      <td>Train</td>\n",
              "      <td>G_MKGlRd</td>\n",
              "      <td>CHAOS</td>\n",
              "      <td>freeform</td>\n",
              "      <td>#4caf50</td>\n",
              "      <td></td>\n",
              "      <td>Liver</td>\n",
              "      <td>[]</td>\n",
              "      <td>INSTANCE</td>\n",
              "      <td>1</td>\n",
              "    </tr>\n",
              "  </tbody>\n",
              "</table>\n",
              "</div>"
            ],
            "text/plain": [
              "         id                 createdAt  ...     scope number\n",
              "0  A_JddPQE  2020-02-18T21:13:01.175Z  ...  INSTANCE      1\n",
              "1  A_qG28ZY  2020-02-18T21:13:01.175Z  ...  INSTANCE      1\n",
              "2  A_47VBpv  2020-02-18T21:13:01.175Z  ...  INSTANCE      1\n",
              "3  A_JAnGdr  2020-02-18T21:13:01.175Z  ...  INSTANCE      1\n",
              "4  A_JN8WKy  2020-02-18T21:13:01.175Z  ...  INSTANCE      1\n",
              "\n",
              "[5 rows x 28 columns]"
            ]
          },
          "metadata": {
            "tags": []
          },
          "execution_count": 14
        }
      ]
    },
    {
      "cell_type": "code",
      "metadata": {
        "id": "rbQt2pqo1vN9",
        "colab_type": "code",
        "outputId": "13c2bed6-159e-4f05-a9e6-c90efc03b134",
        "colab": {
          "base_uri": "https://localhost:8080/",
          "height": 136
        }
      },
      "source": [
        "annotations.columns"
      ],
      "execution_count": 0,
      "outputs": [
        {
          "output_type": "execute_result",
          "data": {
            "text/plain": [
              "Index(['id', 'createdAt', 'createdById', 'updatedAt', 'updatedById', 'modelId',\n",
              "       'StudyInstanceUID', 'SeriesInstanceUID', 'SOPInstanceUID', 'labelId',\n",
              "       'annotationNumber', 'height', 'width', 'data', 'note', 'radlexTagIds',\n",
              "       'reviewsPositiveCount', 'reviewsNegativeCount', 'dataset', 'groupId',\n",
              "       'groupName', 'annotationMode', 'color', 'description', 'labelName',\n",
              "       'radlexTagIdsLabel', 'scope', 'number'],\n",
              "      dtype='object')"
            ]
          },
          "metadata": {
            "tags": []
          },
          "execution_count": 15
        }
      ]
    },
    {
      "cell_type": "code",
      "metadata": {
        "id": "wUfGcovM10KC",
        "colab_type": "code",
        "outputId": "90d997e1-3c75-4b03-994b-4a92d438047c",
        "colab": {
          "base_uri": "https://localhost:8080/",
          "height": 68
        }
      },
      "source": [
        "annotations.dataset.value_counts()"
      ],
      "execution_count": 0,
      "outputs": [
        {
          "output_type": "execute_result",
          "data": {
            "text/plain": [
              "Train    6511\n",
              "Test     4074\n",
              "Name: dataset, dtype: int64"
            ]
          },
          "metadata": {
            "tags": []
          },
          "execution_count": 16
        }
      ]
    },
    {
      "cell_type": "code",
      "metadata": {
        "id": "T6Jykr0o2TS-",
        "colab_type": "code",
        "outputId": "fefe13a8-917e-4c16-9b6b-761b6f1d47a4",
        "colab": {
          "base_uri": "https://localhost:8080/",
          "height": 204
        }
      },
      "source": [
        "studies = results['studies']\n",
        "studies.head()"
      ],
      "execution_count": 0,
      "outputs": [
        {
          "output_type": "execute_result",
          "data": {
            "text/html": [
              "<div>\n",
              "<style scoped>\n",
              "    .dataframe tbody tr th:only-of-type {\n",
              "        vertical-align: middle;\n",
              "    }\n",
              "\n",
              "    .dataframe tbody tr th {\n",
              "        vertical-align: top;\n",
              "    }\n",
              "\n",
              "    .dataframe thead th {\n",
              "        text-align: right;\n",
              "    }\n",
              "</style>\n",
              "<table border=\"1\" class=\"dataframe\">\n",
              "  <thead>\n",
              "    <tr style=\"text-align: right;\">\n",
              "      <th></th>\n",
              "      <th>StudyInstanceUID</th>\n",
              "      <th>dataset</th>\n",
              "      <th>number</th>\n",
              "    </tr>\n",
              "  </thead>\n",
              "  <tbody>\n",
              "    <tr>\n",
              "      <th>0</th>\n",
              "      <td>1.3.46.670589.11.20182.5.0.8336.20130724083604...</td>\n",
              "      <td>Train</td>\n",
              "      <td>1</td>\n",
              "    </tr>\n",
              "    <tr>\n",
              "      <th>1</th>\n",
              "      <td>1.2.752.24.7.2066097694.314180</td>\n",
              "      <td>Train</td>\n",
              "      <td>2</td>\n",
              "    </tr>\n",
              "    <tr>\n",
              "      <th>2</th>\n",
              "      <td>1.2.752.24.7.2066097694.320548</td>\n",
              "      <td>Train</td>\n",
              "      <td>3</td>\n",
              "    </tr>\n",
              "    <tr>\n",
              "      <th>3</th>\n",
              "      <td>1.2.752.24.7.2066097694.323785</td>\n",
              "      <td>Train</td>\n",
              "      <td>4</td>\n",
              "    </tr>\n",
              "    <tr>\n",
              "      <th>4</th>\n",
              "      <td>1.2.752.24.7.595070831.4907659</td>\n",
              "      <td>Train</td>\n",
              "      <td>5</td>\n",
              "    </tr>\n",
              "  </tbody>\n",
              "</table>\n",
              "</div>"
            ],
            "text/plain": [
              "                                    StudyInstanceUID dataset  number\n",
              "0  1.3.46.670589.11.20182.5.0.8336.20130724083604...   Train       1\n",
              "1                     1.2.752.24.7.2066097694.314180   Train       2\n",
              "2                     1.2.752.24.7.2066097694.320548   Train       3\n",
              "3                     1.2.752.24.7.2066097694.323785   Train       4\n",
              "4                     1.2.752.24.7.595070831.4907659   Train       5"
            ]
          },
          "metadata": {
            "tags": []
          },
          "execution_count": 17
        }
      ]
    },
    {
      "cell_type": "code",
      "metadata": {
        "id": "fmExxvW_9npH",
        "colab_type": "code",
        "outputId": "1647647e-efa2-4794-849e-449d42177261",
        "colab": {
          "base_uri": "https://localhost:8080/",
          "height": 649
        }
      },
      "source": [
        "# boxing data into separate columns\n",
        "a = annotations[annotations.annotationMode == 'bbox'].copy()\n",
        "\n",
        "a['x'] = [d['x'] for _,d in a.data.iteritems()]\n",
        "a['y'] = [d['y'] for _,d in a.data.iteritems()]\n",
        "a['w'] = [d['width'] for _,d in a.data.iteritems()]\n",
        "a['h'] = [d['height'] for _,d in a.data.iteritems()]\n",
        "a['x2'] = a.x + a.w\n",
        "a['y2'] = a.y + a.h\n",
        "\n",
        "a.head()"
      ],
      "execution_count": 0,
      "outputs": [
        {
          "output_type": "execute_result",
          "data": {
            "text/html": [
              "<div>\n",
              "<style scoped>\n",
              "    .dataframe tbody tr th:only-of-type {\n",
              "        vertical-align: middle;\n",
              "    }\n",
              "\n",
              "    .dataframe tbody tr th {\n",
              "        vertical-align: top;\n",
              "    }\n",
              "\n",
              "    .dataframe thead th {\n",
              "        text-align: right;\n",
              "    }\n",
              "</style>\n",
              "<table border=\"1\" class=\"dataframe\">\n",
              "  <thead>\n",
              "    <tr style=\"text-align: right;\">\n",
              "      <th></th>\n",
              "      <th>id</th>\n",
              "      <th>createdAt</th>\n",
              "      <th>createdById</th>\n",
              "      <th>updatedAt</th>\n",
              "      <th>updatedById</th>\n",
              "      <th>modelId</th>\n",
              "      <th>StudyInstanceUID</th>\n",
              "      <th>SeriesInstanceUID</th>\n",
              "      <th>SOPInstanceUID</th>\n",
              "      <th>labelId</th>\n",
              "      <th>annotationNumber</th>\n",
              "      <th>height</th>\n",
              "      <th>width</th>\n",
              "      <th>data</th>\n",
              "      <th>note</th>\n",
              "      <th>radlexTagIds</th>\n",
              "      <th>reviewsPositiveCount</th>\n",
              "      <th>reviewsNegativeCount</th>\n",
              "      <th>dataset</th>\n",
              "      <th>groupId</th>\n",
              "      <th>groupName</th>\n",
              "      <th>annotationMode</th>\n",
              "      <th>color</th>\n",
              "      <th>description</th>\n",
              "      <th>labelName</th>\n",
              "      <th>radlexTagIdsLabel</th>\n",
              "      <th>scope</th>\n",
              "      <th>number</th>\n",
              "      <th>x</th>\n",
              "      <th>y</th>\n",
              "      <th>w</th>\n",
              "      <th>h</th>\n",
              "      <th>x2</th>\n",
              "      <th>y2</th>\n",
              "    </tr>\n",
              "  </thead>\n",
              "  <tbody>\n",
              "    <tr>\n",
              "      <th>2587</th>\n",
              "      <td>A_46VVeA</td>\n",
              "      <td>2020-02-20T22:56:39.070Z</td>\n",
              "      <td>U_w8RBv8</td>\n",
              "      <td>2020-02-20T22:56:42.012Z</td>\n",
              "      <td>U_w8RBv8</td>\n",
              "      <td>None</td>\n",
              "      <td>1.2.124.113532.192.70.134.138.20060119.151934....</td>\n",
              "      <td>1.3.46.670589.10.1.1.2163374719.1137684481.588647</td>\n",
              "      <td>1.3.6.1.4.1.9590.100.1.2.143996816212842704408...</td>\n",
              "      <td>L_8GwaX8</td>\n",
              "      <td>1</td>\n",
              "      <td>512</td>\n",
              "      <td>512</td>\n",
              "      <td>{'x': 319.09049, 'y': 133.04872, 'width': 58.8...</td>\n",
              "      <td>None</td>\n",
              "      <td>[]</td>\n",
              "      <td>0</td>\n",
              "      <td>0</td>\n",
              "      <td>Train</td>\n",
              "      <td>G_Zd0jg2</td>\n",
              "      <td>Stomach</td>\n",
              "      <td>bbox</td>\n",
              "      <td>#4fc3f7</td>\n",
              "      <td></td>\n",
              "      <td>Stomach</td>\n",
              "      <td>[]</td>\n",
              "      <td>INSTANCE</td>\n",
              "      <td>34</td>\n",
              "      <td>319.09049</td>\n",
              "      <td>133.04872</td>\n",
              "      <td>58.80280</td>\n",
              "      <td>132.45476</td>\n",
              "      <td>377.89329</td>\n",
              "      <td>265.50348</td>\n",
              "    </tr>\n",
              "    <tr>\n",
              "      <th>2588</th>\n",
              "      <td>A_4Ejj0n</td>\n",
              "      <td>2020-02-20T22:56:43.149Z</td>\n",
              "      <td>U_w8RBv8</td>\n",
              "      <td>2020-02-20T22:56:46.322Z</td>\n",
              "      <td>U_w8RBv8</td>\n",
              "      <td>None</td>\n",
              "      <td>1.2.124.113532.192.70.134.138.20060119.151934....</td>\n",
              "      <td>1.3.46.670589.10.1.1.2163374719.1137684481.588647</td>\n",
              "      <td>1.3.6.1.4.1.9590.100.1.2.221738641111322743413...</td>\n",
              "      <td>L_8GwaX8</td>\n",
              "      <td>1</td>\n",
              "      <td>512</td>\n",
              "      <td>512</td>\n",
              "      <td>{'x': 319.09049, 'y': 133.04872, 'width': 71.8...</td>\n",
              "      <td>None</td>\n",
              "      <td>[]</td>\n",
              "      <td>0</td>\n",
              "      <td>0</td>\n",
              "      <td>Train</td>\n",
              "      <td>G_Zd0jg2</td>\n",
              "      <td>Stomach</td>\n",
              "      <td>bbox</td>\n",
              "      <td>#4fc3f7</td>\n",
              "      <td></td>\n",
              "      <td>Stomach</td>\n",
              "      <td>[]</td>\n",
              "      <td>INSTANCE</td>\n",
              "      <td>34</td>\n",
              "      <td>319.09049</td>\n",
              "      <td>133.04872</td>\n",
              "      <td>71.87009</td>\n",
              "      <td>141.36428</td>\n",
              "      <td>390.96058</td>\n",
              "      <td>274.41300</td>\n",
              "    </tr>\n",
              "    <tr>\n",
              "      <th>2589</th>\n",
              "      <td>A_qnNN7D</td>\n",
              "      <td>2020-02-20T22:56:48.400Z</td>\n",
              "      <td>U_w8RBv8</td>\n",
              "      <td>2020-02-20T22:56:53.874Z</td>\n",
              "      <td>U_w8RBv8</td>\n",
              "      <td>None</td>\n",
              "      <td>1.2.124.113532.192.70.134.138.20060119.151934....</td>\n",
              "      <td>1.3.46.670589.10.1.1.2163374719.1137684481.588647</td>\n",
              "      <td>1.3.6.1.4.1.9590.100.1.2.349787558310949905409...</td>\n",
              "      <td>L_8GwaX8</td>\n",
              "      <td>1</td>\n",
              "      <td>512</td>\n",
              "      <td>512</td>\n",
              "      <td>{'x': 307.80512, 'y': 127.703, 'width': 98.004...</td>\n",
              "      <td>None</td>\n",
              "      <td>[]</td>\n",
              "      <td>0</td>\n",
              "      <td>0</td>\n",
              "      <td>Train</td>\n",
              "      <td>G_Zd0jg2</td>\n",
              "      <td>Stomach</td>\n",
              "      <td>bbox</td>\n",
              "      <td>#4fc3f7</td>\n",
              "      <td></td>\n",
              "      <td>Stomach</td>\n",
              "      <td>[]</td>\n",
              "      <td>INSTANCE</td>\n",
              "      <td>34</td>\n",
              "      <td>307.80512</td>\n",
              "      <td>127.70300</td>\n",
              "      <td>98.00464</td>\n",
              "      <td>147.89791</td>\n",
              "      <td>405.80976</td>\n",
              "      <td>275.60091</td>\n",
              "    </tr>\n",
              "    <tr>\n",
              "      <th>2590</th>\n",
              "      <td>A_J0VV8r</td>\n",
              "      <td>2020-02-20T22:56:54.923Z</td>\n",
              "      <td>U_w8RBv8</td>\n",
              "      <td>2020-02-20T22:56:59.882Z</td>\n",
              "      <td>U_w8RBv8</td>\n",
              "      <td>None</td>\n",
              "      <td>1.2.124.113532.192.70.134.138.20060119.151934....</td>\n",
              "      <td>1.3.46.670589.10.1.1.2163374719.1137684481.588647</td>\n",
              "      <td>1.3.6.1.4.1.9590.100.1.2.246608410712272726341...</td>\n",
              "      <td>L_8GwaX8</td>\n",
              "      <td>1</td>\n",
              "      <td>512</td>\n",
              "      <td>512</td>\n",
              "      <td>{'x': 300.6775, 'y': 111.07192, 'width': 114.0...</td>\n",
              "      <td>None</td>\n",
              "      <td>[]</td>\n",
              "      <td>0</td>\n",
              "      <td>0</td>\n",
              "      <td>Train</td>\n",
              "      <td>G_Zd0jg2</td>\n",
              "      <td>Stomach</td>\n",
              "      <td>bbox</td>\n",
              "      <td>#4fc3f7</td>\n",
              "      <td></td>\n",
              "      <td>Stomach</td>\n",
              "      <td>[]</td>\n",
              "      <td>INSTANCE</td>\n",
              "      <td>34</td>\n",
              "      <td>300.67750</td>\n",
              "      <td>111.07192</td>\n",
              "      <td>114.04178</td>\n",
              "      <td>171.06266</td>\n",
              "      <td>414.71928</td>\n",
              "      <td>282.13458</td>\n",
              "    </tr>\n",
              "    <tr>\n",
              "      <th>2591</th>\n",
              "      <td>A_qxRReE</td>\n",
              "      <td>2020-02-20T22:57:01.161Z</td>\n",
              "      <td>U_w8RBv8</td>\n",
              "      <td>2020-02-20T22:57:01.161Z</td>\n",
              "      <td>U_w8RBv8</td>\n",
              "      <td>None</td>\n",
              "      <td>1.2.124.113532.192.70.134.138.20060119.151934....</td>\n",
              "      <td>1.3.46.670589.10.1.1.2163374719.1137684481.588647</td>\n",
              "      <td>1.3.6.1.4.1.9590.100.1.2.316798133213122207700...</td>\n",
              "      <td>L_8GwaX8</td>\n",
              "      <td>1</td>\n",
              "      <td>512</td>\n",
              "      <td>512</td>\n",
              "      <td>{'x': 300.6775, 'y': 111.07192, 'width': 114.0...</td>\n",
              "      <td>None</td>\n",
              "      <td>[]</td>\n",
              "      <td>0</td>\n",
              "      <td>0</td>\n",
              "      <td>Train</td>\n",
              "      <td>G_Zd0jg2</td>\n",
              "      <td>Stomach</td>\n",
              "      <td>bbox</td>\n",
              "      <td>#4fc3f7</td>\n",
              "      <td></td>\n",
              "      <td>Stomach</td>\n",
              "      <td>[]</td>\n",
              "      <td>INSTANCE</td>\n",
              "      <td>34</td>\n",
              "      <td>300.67750</td>\n",
              "      <td>111.07192</td>\n",
              "      <td>114.04178</td>\n",
              "      <td>171.06266</td>\n",
              "      <td>414.71928</td>\n",
              "      <td>282.13458</td>\n",
              "    </tr>\n",
              "  </tbody>\n",
              "</table>\n",
              "</div>"
            ],
            "text/plain": [
              "            id                 createdAt  ...         x2         y2\n",
              "2587  A_46VVeA  2020-02-20T22:56:39.070Z  ...  377.89329  265.50348\n",
              "2588  A_4Ejj0n  2020-02-20T22:56:43.149Z  ...  390.96058  274.41300\n",
              "2589  A_qnNN7D  2020-02-20T22:56:48.400Z  ...  405.80976  275.60091\n",
              "2590  A_J0VV8r  2020-02-20T22:56:54.923Z  ...  414.71928  282.13458\n",
              "2591  A_qxRReE  2020-02-20T22:57:01.161Z  ...  414.71928  282.13458\n",
              "\n",
              "[5 rows x 34 columns]"
            ]
          },
          "metadata": {
            "tags": []
          },
          "execution_count": 28
        }
      ]
    },
    {
      "cell_type": "code",
      "metadata": {
        "id": "LVDPunLrS8-W",
        "colab_type": "code",
        "outputId": "705eafe5-aeb2-42ce-a93f-249aac9d1333",
        "colab": {
          "base_uri": "https://localhost:8080/",
          "height": 204
        }
      },
      "source": [
        "labels = results['labels']\n",
        "labels.head()"
      ],
      "execution_count": 0,
      "outputs": [
        {
          "output_type": "execute_result",
          "data": {
            "text/html": [
              "<div>\n",
              "<style scoped>\n",
              "    .dataframe tbody tr th:only-of-type {\n",
              "        vertical-align: middle;\n",
              "    }\n",
              "\n",
              "    .dataframe tbody tr th {\n",
              "        vertical-align: top;\n",
              "    }\n",
              "\n",
              "    .dataframe thead th {\n",
              "        text-align: right;\n",
              "    }\n",
              "</style>\n",
              "<table border=\"1\" class=\"dataframe\">\n",
              "  <thead>\n",
              "    <tr style=\"text-align: right;\">\n",
              "      <th></th>\n",
              "      <th>groupId</th>\n",
              "      <th>groupName</th>\n",
              "      <th>annotationMode</th>\n",
              "      <th>color</th>\n",
              "      <th>description</th>\n",
              "      <th>labelId</th>\n",
              "      <th>labelName</th>\n",
              "      <th>radlexTagIdsLabel</th>\n",
              "      <th>scope</th>\n",
              "    </tr>\n",
              "  </thead>\n",
              "  <tbody>\n",
              "    <tr>\n",
              "      <th>0</th>\n",
              "      <td>G_MKGlRd</td>\n",
              "      <td>CHAOS</td>\n",
              "      <td>freeform</td>\n",
              "      <td>#4caf50</td>\n",
              "      <td></td>\n",
              "      <td>L_8W6Ord</td>\n",
              "      <td>Liver</td>\n",
              "      <td>[]</td>\n",
              "      <td>INSTANCE</td>\n",
              "    </tr>\n",
              "    <tr>\n",
              "      <th>1</th>\n",
              "      <td>G_MKGlRd</td>\n",
              "      <td>CHAOS</td>\n",
              "      <td>freeform</td>\n",
              "      <td>#3f51b5</td>\n",
              "      <td></td>\n",
              "      <td>L_lPeggd</td>\n",
              "      <td>Right Kidney</td>\n",
              "      <td>[]</td>\n",
              "      <td>INSTANCE</td>\n",
              "    </tr>\n",
              "    <tr>\n",
              "      <th>2</th>\n",
              "      <td>G_MKGlRd</td>\n",
              "      <td>CHAOS</td>\n",
              "      <td>freeform</td>\n",
              "      <td>#b3e5fc</td>\n",
              "      <td></td>\n",
              "      <td>L_BnLrqd</td>\n",
              "      <td>Left Kidney</td>\n",
              "      <td>[]</td>\n",
              "      <td>INSTANCE</td>\n",
              "    </tr>\n",
              "    <tr>\n",
              "      <th>3</th>\n",
              "      <td>G_MKGlRd</td>\n",
              "      <td>CHAOS</td>\n",
              "      <td>freeform</td>\n",
              "      <td>#f0f4c3</td>\n",
              "      <td></td>\n",
              "      <td>L_8GwaZ8</td>\n",
              "      <td>Spleen</td>\n",
              "      <td>[]</td>\n",
              "      <td>INSTANCE</td>\n",
              "    </tr>\n",
              "    <tr>\n",
              "      <th>4</th>\n",
              "      <td>G_W5ljNK</td>\n",
              "      <td>Segment</td>\n",
              "      <td>freeform</td>\n",
              "      <td>#e91e63</td>\n",
              "      <td></td>\n",
              "      <td>L_B7vz28</td>\n",
              "      <td>Liver</td>\n",
              "      <td>[]</td>\n",
              "      <td>INSTANCE</td>\n",
              "    </tr>\n",
              "  </tbody>\n",
              "</table>\n",
              "</div>"
            ],
            "text/plain": [
              "    groupId groupName annotationMode  ...     labelName radlexTagIdsLabel     scope\n",
              "0  G_MKGlRd     CHAOS       freeform  ...         Liver                []  INSTANCE\n",
              "1  G_MKGlRd     CHAOS       freeform  ...  Right Kidney                []  INSTANCE\n",
              "2  G_MKGlRd     CHAOS       freeform  ...   Left Kidney                []  INSTANCE\n",
              "3  G_MKGlRd     CHAOS       freeform  ...        Spleen                []  INSTANCE\n",
              "4  G_W5ljNK   Segment       freeform  ...         Liver                []  INSTANCE\n",
              "\n",
              "[5 rows x 9 columns]"
            ]
          },
          "metadata": {
            "tags": []
          },
          "execution_count": 29
        }
      ]
    },
    {
      "cell_type": "code",
      "metadata": {
        "id": "iW-UJLw15RGD",
        "colab_type": "code",
        "colab": {}
      },
      "source": [
        ""
      ],
      "execution_count": 0,
      "outputs": []
    }
  ]
}
